{
  "nbformat": 4,
  "nbformat_minor": 0,
  "metadata": {
    "colab": {
      "provenance": []
    },
    "kernelspec": {
      "name": "python3",
      "display_name": "Python 3"
    },
    "language_info": {
      "name": "python"
    }
  },
  "cells": [
    {
      "cell_type": "code",
      "execution_count": 47,
      "metadata": {
        "colab": {
          "base_uri": "https://localhost:8080/"
        },
        "id": "LHyw1V0lyOH7",
        "outputId": "1975e23d-f283-49d2-fdc2-21f69788af8e"
      },
      "outputs": [
        {
          "output_type": "stream",
          "name": "stdout",
          "text": [
            "     Age  Gender  Protein1  Protein2  Protein3  Protein4 Tumour_Stage  \\\n",
            "0     42  FEMALE  0.952560   2.15000  0.007972 -0.048340           II   \n",
            "1     54  FEMALE  0.000000   1.38020 -0.498030 -0.507320           II   \n",
            "2     63  FEMALE -0.523030   1.76400 -0.370190  0.010815           II   \n",
            "3     78  FEMALE -0.876180   0.12943 -0.370380  0.132190            I   \n",
            "4     42  FEMALE  0.226110   1.74910 -0.543970 -0.390210           II   \n",
            "..   ...     ...       ...       ...       ...       ...          ...   \n",
            "329   59  FEMALE  0.024598   1.40050  0.024751  0.280320           II   \n",
            "330   41  FEMALE  0.100120  -0.46547  0.472370 -0.523870            I   \n",
            "331   54  FEMALE  0.753820   1.64250 -0.332850  0.857860           II   \n",
            "332   74  FEMALE  0.972510   1.42680 -0.366570 -0.107820           II   \n",
            "333   66  FEMALE  0.286380   1.39980  0.318830  0.836050           II   \n",
            "\n",
            "                          Histology ER status PR status HER2 status  \\\n",
            "0     Infiltrating Ductal Carcinoma  Positive  Positive    Negative   \n",
            "1     Infiltrating Ductal Carcinoma  Positive  Positive    Negative   \n",
            "2     Infiltrating Ductal Carcinoma  Positive  Positive    Negative   \n",
            "3     Infiltrating Ductal Carcinoma  Positive  Positive    Negative   \n",
            "4     Infiltrating Ductal Carcinoma  Positive  Positive    Positive   \n",
            "..                              ...       ...       ...         ...   \n",
            "329   Infiltrating Ductal Carcinoma  Positive  Positive    Positive   \n",
            "330   Infiltrating Ductal Carcinoma  Positive  Positive    Positive   \n",
            "331   Infiltrating Ductal Carcinoma  Positive  Positive    Negative   \n",
            "332  Infiltrating Lobular Carcinoma  Positive  Positive    Negative   \n",
            "333   Infiltrating Ductal Carcinoma  Positive  Positive    Negative   \n",
            "\n",
            "                    Surgery_type Date_of_Surgery Date_of_Last_Visit  \\\n",
            "0                          Other       20-May-18          26-Aug-18   \n",
            "1                          Other       26-Apr-18          25-Jan-19   \n",
            "2                     Lumpectomy       24-Aug-18          08-Apr-20   \n",
            "3                          Other       16-Nov-18          28-Jul-20   \n",
            "4                     Lumpectomy       12-Dec-18          05-Jan-19   \n",
            "..                           ...             ...                ...   \n",
            "329                   Lumpectomy       15-Jan-19          27-Mar-20   \n",
            "330  Modified Radical Mastectomy       25-Jul-18          23-Apr-19   \n",
            "331            Simple Mastectomy       26-Mar-19          11-Oct-19   \n",
            "332                   Lumpectomy       26-Nov-18          05-Dec-18   \n",
            "333  Modified Radical Mastectomy       04-Feb-19          10-Aug-19   \n",
            "\n",
            "    Patient_Status  \n",
            "0            Alive  \n",
            "1             Dead  \n",
            "2            Alive  \n",
            "3            Alive  \n",
            "4            Alive  \n",
            "..             ...  \n",
            "329          Alive  \n",
            "330          Alive  \n",
            "331           Dead  \n",
            "332          Alive  \n",
            "333           Dead  \n",
            "\n",
            "[334 rows x 15 columns]\n"
          ]
        }
      ],
      "source": [
        "import pandas as pd\n",
        "a= pd.read_csv('/content/breast_cancer_survival (2).csv')\n",
        "print(a)"
      ]
    },
    {
      "cell_type": "code",
      "source": [
        "print(a.isnull().sum())"
      ],
      "metadata": {
        "colab": {
          "base_uri": "https://localhost:8080/"
        },
        "id": "Fz9ArWl29Yuh",
        "outputId": "2ea3d6e8-9c96-46fd-c7ae-1da5c982ee82"
      },
      "execution_count": 48,
      "outputs": [
        {
          "output_type": "stream",
          "name": "stdout",
          "text": [
            "Age                    0\n",
            "Gender                 0\n",
            "Protein1               0\n",
            "Protein2               0\n",
            "Protein3               0\n",
            "Protein4               0\n",
            "Tumour_Stage           0\n",
            "Histology              0\n",
            "ER status              0\n",
            "PR status              0\n",
            "HER2 status            0\n",
            "Surgery_type           0\n",
            "Date_of_Surgery        0\n",
            "Date_of_Last_Visit    17\n",
            "Patient_Status        13\n",
            "dtype: int64\n"
          ]
        }
      ]
    },
    {
      "cell_type": "code",
      "source": [
        "x1=a.drop('Patient_Status',axis=1)\n",
        "x2=x1.drop('Surgery_type',axis=1)\n",
        "x3=x2.drop('Date_of_Surgery',axis=1)\n",
        "x4=x3.drop('Date_of_Last_Visit',axis=1)\n",
        "x5=x4.drop('Histology',axis=1)\n",
        "x6=x5.drop('HER2 status',axis=1)\n",
        "x7=x6.drop('PR status',axis=1)\n",
        "x8=x7.drop('ER status',axis=1)\n",
        "x=x8.drop('Gender',axis=1)\n",
        "print(\"FEATURES:\")\n",
        "print(x)\n"
      ],
      "metadata": {
        "colab": {
          "base_uri": "https://localhost:8080/"
        },
        "id": "rWPJiSdV2ViH",
        "outputId": "8433e32d-61a9-45f8-c261-f9e078d71055"
      },
      "execution_count": 67,
      "outputs": [
        {
          "output_type": "stream",
          "name": "stdout",
          "text": [
            "FEATURES:\n",
            "     Age  Protein1  Protein2  Protein3  Protein4 Tumour_Stage\n",
            "0     42  0.952560   2.15000  0.007972 -0.048340           II\n",
            "1     54  0.000000   1.38020 -0.498030 -0.507320           II\n",
            "2     63 -0.523030   1.76400 -0.370190  0.010815           II\n",
            "3     78 -0.876180   0.12943 -0.370380  0.132190            I\n",
            "4     42  0.226110   1.74910 -0.543970 -0.390210           II\n",
            "..   ...       ...       ...       ...       ...          ...\n",
            "329   59  0.024598   1.40050  0.024751  0.280320           II\n",
            "330   41  0.100120  -0.46547  0.472370 -0.523870            I\n",
            "331   54  0.753820   1.64250 -0.332850  0.857860           II\n",
            "332   74  0.972510   1.42680 -0.366570 -0.107820           II\n",
            "333   66  0.286380   1.39980  0.318830  0.836050           II\n",
            "\n",
            "[334 rows x 6 columns]\n"
          ]
        }
      ]
    },
    {
      "cell_type": "code",
      "source": [
        "x['Tumour_Stage'] = x['Tumour_Stage'].replace(\"I\",1)\n",
        "x.to_csv(\"updated_breast_cancer_survival.csv\", index=False)\n",
        "x['Tumour_Stage'] = x['Tumour_Stage'].replace(\"II\",2)\n",
        "x.to_csv(\"updated_breast_cancer_survival.csv\", index=False)\n",
        "x['Tumour_Stage'] = x['Tumour_Stage'].replace(\"III\",3)\n",
        "x.to_csv(\"updated_breast_cancer_survival.csv\", index=False)\n",
        "print(\"FEATURES:\\n\\n\")\n",
        "print(x)"
      ],
      "metadata": {
        "colab": {
          "base_uri": "https://localhost:8080/"
        },
        "id": "pgy38GT63seS",
        "outputId": "55fc095b-7e7a-48ac-81dc-ac5c44b80e36"
      },
      "execution_count": 50,
      "outputs": [
        {
          "output_type": "stream",
          "name": "stdout",
          "text": [
            "FEATURES:\n",
            "\n",
            "\n",
            "     Age  Protein1  Protein2  Protein3  Protein4  Tumour_Stage\n",
            "0     42  0.952560   2.15000  0.007972 -0.048340             2\n",
            "1     54  0.000000   1.38020 -0.498030 -0.507320             2\n",
            "2     63 -0.523030   1.76400 -0.370190  0.010815             2\n",
            "3     78 -0.876180   0.12943 -0.370380  0.132190             1\n",
            "4     42  0.226110   1.74910 -0.543970 -0.390210             2\n",
            "..   ...       ...       ...       ...       ...           ...\n",
            "329   59  0.024598   1.40050  0.024751  0.280320             2\n",
            "330   41  0.100120  -0.46547  0.472370 -0.523870             1\n",
            "331   54  0.753820   1.64250 -0.332850  0.857860             2\n",
            "332   74  0.972510   1.42680 -0.366570 -0.107820             2\n",
            "333   66  0.286380   1.39980  0.318830  0.836050             2\n",
            "\n",
            "[334 rows x 6 columns]\n"
          ]
        }
      ]
    },
    {
      "cell_type": "code",
      "source": [
        "y0=a['Patient_Status']\n",
        "print(y0)\n",
        "print(\"\\nVALUES IN y0:\")\n",
        "print(set(y0))"
      ],
      "metadata": {
        "colab": {
          "base_uri": "https://localhost:8080/"
        },
        "id": "nRaHMq8Z3637",
        "outputId": "dff9719a-7406-4b82-8a4d-9a45e320041d"
      },
      "execution_count": 51,
      "outputs": [
        {
          "output_type": "stream",
          "name": "stdout",
          "text": [
            "0      Alive\n",
            "1       Dead\n",
            "2      Alive\n",
            "3      Alive\n",
            "4      Alive\n",
            "       ...  \n",
            "329    Alive\n",
            "330    Alive\n",
            "331     Dead\n",
            "332    Alive\n",
            "333     Dead\n",
            "Name: Patient_Status, Length: 334, dtype: object\n",
            "\n",
            "VALUES IN y0:\n",
            "{nan, 'Alive', 'Dead'}\n"
          ]
        }
      ]
    },
    {
      "cell_type": "code",
      "source": [
        "y = y0.replace({\"Alive\": 1, \"Dead\": 0})\n",
        "y = y.fillna(0)\n",
        "y.to_csv(\"updated_breast_cancer_survival.csv\", index=False)\n",
        "print(\"TARGET VARIABLE:\")\n",
        "print(y)\n",
        "print(set(y))"
      ],
      "metadata": {
        "colab": {
          "base_uri": "https://localhost:8080/"
        },
        "id": "Z1xpeamh4D3-",
        "outputId": "2b8658d2-80d4-42c3-e7e6-5e70dbea15a3"
      },
      "execution_count": 68,
      "outputs": [
        {
          "output_type": "stream",
          "name": "stdout",
          "text": [
            "TARGET VARIABLE:\n",
            "0      1.0\n",
            "1      0.0\n",
            "2      1.0\n",
            "3      1.0\n",
            "4      1.0\n",
            "      ... \n",
            "329    1.0\n",
            "330    1.0\n",
            "331    0.0\n",
            "332    1.0\n",
            "333    0.0\n",
            "Name: Patient_Status, Length: 334, dtype: float64\n",
            "{0.0, 1.0}\n"
          ]
        }
      ]
    },
    {
      "cell_type": "code",
      "source": [
        "from sklearn.preprocessing import StandardScaler\n",
        "from sklearn.model_selection import train_test_split\n",
        "from sklearn.neighbors import KNeighborsClassifier\n",
        "from sklearn.metrics import accuracy_score, classification_report\n",
        "import matplotlib.pyplot as plt\n",
        "X_train, X_test, y_train, y_test = train_test_split(x, y, test_size=0.25, random_state=0)\n",
        "scaler = StandardScaler()\n",
        "X_train = scaler.fit_transform(X_train)\n",
        "X_test = scaler.transform(X_test)"
      ],
      "metadata": {
        "id": "pHuddv-B-Lom"
      },
      "execution_count": 64,
      "outputs": []
    },
    {
      "cell_type": "code",
      "source": [
        "k_values = list(range(2, 21))\n",
        "accuracy_scores = []\n",
        "for k in k_values:\n",
        "    knn = KNeighborsClassifier(n_neighbors=k, n_jobs=-1)\n",
        "    knn.fit(X_train, y_train)\n",
        "    y_pred = knn.predict(X_test)\n",
        "    accuracy = accuracy_score(y_test, y_pred)\n",
        "    accuracy_scores.append(accuracy)\n",
        "print(accuracy_scores)"
      ],
      "metadata": {
        "colab": {
          "base_uri": "https://localhost:8080/"
        },
        "id": "3asyh8Mk_37l",
        "outputId": "357aa9b7-751c-421f-853b-cff0a036001d"
      },
      "execution_count": 65,
      "outputs": [
        {
          "output_type": "stream",
          "name": "stdout",
          "text": [
            "[0.5714285714285714, 0.7023809523809523, 0.6309523809523809, 0.6904761904761905, 0.6547619047619048, 0.6785714285714286, 0.6904761904761905, 0.6904761904761905, 0.6904761904761905, 0.7023809523809523, 0.7023809523809523, 0.7142857142857143, 0.7142857142857143, 0.7142857142857143, 0.7142857142857143, 0.7261904761904762, 0.7142857142857143, 0.7261904761904762, 0.7261904761904762]\n"
          ]
        }
      ]
    },
    {
      "cell_type": "code",
      "source": [
        "plt.figure(figsize=(10, 6))\n",
        "plt.plot(k_values, accuracy_scores, marker='o', linestyle='-', color='g')\n",
        "plt.title('KNN Accuracy for Different Values of k')\n",
        "plt.xlabel('k (Number of Neighbors)')\n",
        "plt.ylabel('Accuracy')\n",
        "plt.xticks(k_values)\n",
        "plt.grid(True)\n",
        "plt.show()"
      ],
      "metadata": {
        "colab": {
          "base_uri": "https://localhost:8080/",
          "height": 564
        },
        "id": "5OtZsiBt_8nA",
        "outputId": "d27abaa9-a759-44d1-cb37-d91b14ec8675"
      },
      "execution_count": 66,
      "outputs": [
        {
          "output_type": "display_data",
          "data": {
            "text/plain": [
              "<Figure size 1000x600 with 1 Axes>"
            ],
            "image/png": "[encoded data removed]"
          },
          "metadata": {}
        }
      ]
    },
    {
      "cell_type": "code",
      "source": [
        "import pandas as pd\n",
        "b= pd.read_csv('/content/Japan_life_expectancy (1).csv')\n",
        "print(b)"
      ],
      "metadata": {
        "colab": {
          "base_uri": "https://localhost:8080/"
        },
        "id": "YQPqra1VDkZw",
        "outputId": "703f46bd-3447-4fbb-f721-ad8f01c93142"
      },
      "execution_count": 69,
      "outputs": [
        {
          "output_type": "stream",
          "name": "stdout",
          "text": [
            "   Prefecture  Life_expectancy  Physician  Junior_col  University  \\\n",
            "0       Aichi            84.65      224.4        13.6        23.7   \n",
            "1       Akita            83.79      242.6        11.3        11.9   \n",
            "2      Aomori            82.80      212.5        11.4        11.8   \n",
            "3       Chiba            84.48      205.8        14.7        24.9   \n",
            "4       Ehime            84.24      276.7        14.2        18.0   \n",
            "5       Fukui            84.91      257.9        12.9        18.8   \n",
            "6     Fukuoka            84.54      309.9        14.2        20.4   \n",
            "7   Fukushima            83.71      205.7        11.6        13.1   \n",
            "8        Gifu            84.71      224.5        13.4        18.5   \n",
            "9       Gunma            84.16      233.8        14.7        17.5   \n",
            "10  Hiroshima            85.06      267.1        16.1        23.1   \n",
            "11   Hokkaido            84.00      251.3        14.1        14.4   \n",
            "12      Hyogo            84.81      266.1        13.7        24.5   \n",
            "13    Ibaraki            83.92      193.8        12.7        18.2   \n",
            "14   Ishikawa            85.06      291.6        14.7        19.8   \n",
            "15      Iwate            83.85      207.3        12.7        12.7   \n",
            "16     Kagawa            84.60      290.0        14.3        20.8   \n",
            "17  Kagoshima            84.24      283.6        14.4        14.0   \n",
            "18   Kanagawa            84.97      223.0        15.1        29.2   \n",
            "19      Kochi            84.32      322.0        12.9        14.3   \n",
            "20   Kumamoto            85.07      297.0        12.8        16.3   \n",
            "21      Kyoto            85.25      332.6        13.3        24.0   \n",
            "22        Mie            84.64      231.6        12.2        18.0   \n",
            "23     Miyagi            84.61      246.3        12.2        18.4   \n",
            "24   Miyazaki            84.38      255.5        12.2        13.4   \n",
            "25     Nagano            85.46      243.8        16.9        18.1   \n",
            "26   Nagasaki            84.21      319.1        12.3        14.1   \n",
            "27       Nara            85.18      277.1        15.2        26.3   \n",
            "28    Niigata            84.43      204.3        13.6        14.5   \n",
            "29       Oita            84.91      287.1        13.5        15.9   \n",
            "30    Okayama            85.10      320.1        13.9        20.4   \n",
            "31    Okinawa            84.31      257.2        13.9        15.8   \n",
            "32      Osaka            84.09      285.7        13.2        21.8   \n",
            "33       Saga            84.60      290.3        13.1        15.7   \n",
            "34    Saitama            84.38      177.8        15.1        23.9   \n",
            "35      Shiga            85.50      236.3        14.9        22.4   \n",
            "36    Shimane            84.92      297.1        12.9        15.8   \n",
            "37   Shizuoka            84.54      219.4        13.9        19.5   \n",
            "38    Tochigi            83.95      236.9        13.2        17.3   \n",
            "39  Tokushima            84.35      338.4        13.1        19.2   \n",
            "40      Tokyo            84.82      320.9        12.8        31.6   \n",
            "41    Tottori            84.63      314.8        13.4        16.6   \n",
            "42     Toyama            84.86      261.5        15.7        19.8   \n",
            "43   Wakayama            84.20      307.8        12.9        16.3   \n",
            "44   Yamagata            84.39      229.2        12.2        13.7   \n",
            "45  Yamaguchi            84.28      260.1        13.5        16.9   \n",
            "46  Yamanashi            84.83      250.1        15.9        19.9   \n",
            "\n",
            "    Public_Hosp  Pshic_hosp  Beds_psic  Nurses  Avg_hours  ...  Park  Forest  \\\n",
            "0          13.7         0.5      164.3   845.4      171.5  ...  17.2    42.1   \n",
            "1          34.0         1.7      404.6  1105.5      173.0  ...  10.6    70.3   \n",
            "2          42.9         1.4      348.7  1108.8      174.5  ...  11.8    63.6   \n",
            "3          16.1         0.5      195.8   749.1      173.5  ...   5.5    30.1   \n",
            "4          17.4         1.0      329.7  1277.5      178.0  ...   7.2    70.5   \n",
            "5          22.8         1.3      284.1  1124.5      173.0  ...  14.8    73.9   \n",
            "6           8.9         1.2      407.0  1333.7      172.5  ...  17.7    44.5   \n",
            "7          20.6         1.3      339.8   994.7      173.0  ...  13.0    68.0   \n",
            "8          24.7         0.6      195.2   942.7      175.0  ...  18.4    79.0   \n",
            "9          16.5         0.7      257.5  1054.1      174.0  ...  14.0    64.0   \n",
            "10         14.1         1.1      309.7  1198.5      174.5  ...   4.5    71.9   \n",
            "11         21.1         1.3      373.9  1274.1      174.0  ...  11.2    67.7   \n",
            "12         16.6         0.6      211.2   988.3      173.5  ...  19.8    66.9   \n",
            "13          8.5         0.7      252.6   806.3      173.5  ...  14.9    32.4   \n",
            "14         28.2         1.1      325.9  1199.3      174.0  ...  12.6    66.3   \n",
            "15         42.9         1.2      339.6  1045.7      173.5  ...   4.7    74.6   \n",
            "16         23.4         1.2      345.1  1278.9      175.0  ...  10.9    46.4   \n",
            "17          9.1         2.3      589.5  1562.5      175.0  ...  13.6    63.7   \n",
            "18         11.8         0.5      147.7   715.0      174.0  ...  22.8    38.7   \n",
            "19         11.7         1.6      515.2  1640.7      173.5  ...   6.7    83.3   \n",
            "20         18.2         2.2      502.7  1524.4      176.0  ...  21.0    61.8   \n",
            "21         16.4         0.4      229.8  1015.4      172.0  ...  20.6    74.2   \n",
            "22         25.9         0.7      260.3   948.6      176.0  ...  36.1    64.2   \n",
            "23         33.9         1.2      266.7   931.1      176.0  ...  23.5    55.4   \n",
            "24         19.2         1.6      545.5  1463.0      175.0  ...  11.9    75.5   \n",
            "25         24.3         0.7      226.1  1040.6      171.0  ...  20.5    75.3   \n",
            "26         18.3         2.1      594.9  1525.3      176.0  ...  17.9    58.5   \n",
            "27         21.1         0.3      218.0   936.8      173.0  ...  17.2    76.9   \n",
            "28         30.5         0.9      283.6   948.7      173.0  ...  25.2    63.5   \n",
            "29         10.2         2.2      466.1  1449.5      176.0  ...  27.6    70.8   \n",
            "30         16.6         0.8      279.2  1200.5      175.0  ...  11.3    68.1   \n",
            "31         18.2         0.9      360.4  1096.1      174.5  ...  35.7    46.7   \n",
            "32          8.0         0.4      205.5   954.9      173.0  ...  10.5    29.9   \n",
            "33         16.3         1.7      512.8  1528.5      177.5  ...  11.0    45.3   \n",
            "34          7.4         0.6      187.5   704.0      174.0  ...  32.8    31.4   \n",
            "35         34.0         0.5      161.3   895.4      173.0  ...  37.3    50.7   \n",
            "36         42.1         1.3      336.6  1271.9      173.5  ...   6.0    78.0   \n",
            "37         24.3         0.9      180.4   855.1      173.0  ...  10.8    62.8   \n",
            "38          8.0         0.9      249.3   921.6      172.5  ...  20.8    52.9   \n",
            "39         15.2         2.1      496.8  1374.7      172.0  ...   9.3    75.4   \n",
            "40          8.0         0.4      154.3   780.7      171.5  ...  36.4    34.7   \n",
            "41         33.3         0.7      320.6  1341.0      173.0  ...  14.0    73.4   \n",
            "42         20.7         1.8      299.0  1164.4      173.0  ...  29.6    56.6   \n",
            "43         21.3         0.9      222.0  1171.8      175.0  ...  12.6    76.2   \n",
            "44         49.1         1.3      326.9  1045.1      173.0  ...  16.7    69.0   \n",
            "45         19.3         2.1      435.5  1404.1      174.0  ...   7.0    71.4   \n",
            "46         34.6         1.0      280.6   975.2      174.0  ...  27.1    77.8   \n",
            "\n",
            "    Income_per capita  Density_pop  Hospitals    Beds  Ambulances  Health_exp  \\\n",
            "0              3728.0       2517.7        3.8   758.7         3.7        2.06   \n",
            "1              2697.0        296.8        5.2  1168.5         9.0        3.24   \n",
            "2              2507.0        380.5        6.2  1112.8         9.1        3.40   \n",
            "3              3116.0       1778.4        4.1   806.2         4.2        3.53   \n",
            "4              2658.0        801.2        9.1  1274.2         7.1        4.82   \n",
            "5              3280.0        711.9        7.4  1148.3         7.3        2.40   \n",
            "6              2885.0       1858.3        7.7  1328.3         3.8        2.54   \n",
            "7              2943.0        433.3        5.6  1033.2         7.4        3.09   \n",
            "8              2919.0        895.1        4.3   834.1         7.5        3.18   \n",
            "9              3283.0        854.6        5.9  1047.7         5.8        2.59   \n",
            "10             3109.0       1217.9        7.4  1090.0         6.0        3.59   \n",
            "11             2742.0        230.2        9.2  1500.7         8.1        2.52   \n",
            "12             2968.0       1973.3        5.7   981.0         4.2        2.93   \n",
            "13             3327.0        737.2        5.3   917.2         6.0        3.06   \n",
            "14             3023.0        812.1        6.9  1221.1         5.7        2.51   \n",
            "15             2841.0        322.7        6.4  1070.8         8.4        6.05   \n",
            "16             3013.0        945.6        8.1  1188.6         5.6        4.02   \n",
            "17             2509.0        483.0       12.4  1578.1         8.8        3.32   \n",
            "18             3268.0       6267.5        3.1   676.9         3.4        2.82   \n",
            "19             2644.0        595.5       16.1  2052.6        10.1        3.84   \n",
            "20             2667.0        632.8        9.8  1440.2         6.9        3.60   \n",
            "21             2983.0       2189.8        5.9  1130.5         4.5        2.74   \n",
            "22             3121.0        857.6        4.6   903.4         6.8        3.58   \n",
            "23             2945.0        722.6        4.7   857.0         5.3        2.90   \n",
            "24             2468.0        570.1       11.2  1326.4         5.2        3.32   \n",
            "25             3010.0        630.4        5.4  1010.2         7.1        2.61   \n",
            "26             2629.0        786.8        9.1  1420.3         7.2        3.07   \n",
            "27             2632.0       1551.1        5.4  1122.0         6.2        4.06   \n",
            "28             2916.0        483.8        4.8   982.2         7.2        3.84   \n",
            "29             2714.0        626.1       11.4  1297.8         6.7        2.58   \n",
            "30             2769.0        847.5        7.7  1199.9         6.4        2.17   \n",
            "31             2391.0       1302.6        5.2  1044.5         5.7        4.37   \n",
            "32             3190.0       6624.7        5.4  1026.5         3.6        2.31   \n",
            "33             2753.0        608.0       10.6  1455.7         6.3        2.96   \n",
            "34             3047.0       2821.6        4.0   713.5         3.9        3.08   \n",
            "35             3318.0       1087.8        3.5   861.2         4.7        3.68   \n",
            "36             2667.0        528.0        5.7  1185.9        11.6        3.97   \n",
            "37             3432.0       1309.4        3.9   842.4         4.8        4.17   \n",
            "38             3479.0        643.3        4.5   896.0         5.5        4.21   \n",
            "39             3092.0        708.2       12.8  1440.7         7.4        5.00   \n",
            "40             5415.0       9873.3        4.2   807.7         2.6        3.32   \n",
            "41             2515.0        611.9        7.0  1372.9         6.0        3.61   \n",
            "42             3398.0        561.7        8.4  1232.7         6.2        3.03   \n",
            "43             2913.0        821.3        8.1  1227.2         9.1        2.33   \n",
            "44             2897.0        371.7        5.0  1051.7         7.4        5.47   \n",
            "45             3199.0        782.5        8.5  1430.5         6.9        3.21   \n",
            "46             3160.0        849.8        6.4  1080.8         8.0        3.20   \n",
            "\n",
            "    Educ_exp  Welfare_exp  \n",
            "0      21.41        16.53  \n",
            "1      17.93        13.50  \n",
            "2      20.98        15.92  \n",
            "3      25.44        18.24  \n",
            "4      20.47        15.60  \n",
            "5      20.51        12.38  \n",
            "6      18.82        21.51  \n",
            "7      17.63        18.81  \n",
            "8      24.82        15.29  \n",
            "9      24.21        17.28  \n",
            "10     20.43        17.98  \n",
            "11     17.74        16.18  \n",
            "12     20.43        17.80  \n",
            "13     26.37        17.50  \n",
            "14     20.12        13.93  \n",
            "15     16.04        10.31  \n",
            "16     21.53        15.26  \n",
            "17     23.49        17.85  \n",
            "18     21.51        23.01  \n",
            "19     21.66        14.74  \n",
            "20     17.09        17.18  \n",
            "21     20.62        19.24  \n",
            "22     25.42        17.18  \n",
            "23     17.21        13.48  \n",
            "24     20.23        15.88  \n",
            "25     25.09        15.48  \n",
            "26     22.18        15.58  \n",
            "27     24.66        17.52  \n",
            "28     17.42        12.72  \n",
            "29     21.21        15.15  \n",
            "30     20.93        16.41  \n",
            "31     24.61        17.73  \n",
            "32     20.94        21.42  \n",
            "33     22.49        15.24  \n",
            "34     27.53        20.49  \n",
            "35     27.02        15.43  \n",
            "36     19.81        11.87  \n",
            "37     21.17        16.83  \n",
            "38     25.05        16.23  \n",
            "39     17.41        13.38  \n",
            "40     16.76        14.47  \n",
            "41     19.09        13.63  \n",
            "42     22.56        13.28  \n",
            "43     19.84        14.37  \n",
            "44     19.28        13.18  \n",
            "45     23.56        15.21  \n",
            "46     20.87        12.34  \n",
            "\n",
            "[47 rows x 23 columns]\n"
          ]
        }
      ]
    },
    {
      "cell_type": "code",
      "source": [
        "import numpy as np\n",
        "from sklearn.model_selection import train_test_split\n",
        "from sklearn.neighbors import KNeighborsRegressor\n",
        "from sklearn.metrics import mean_squared_error\n",
        "columns_to_drop = ['Park', 'University', 'Junior_col', 'Prefecture']\n",
        "x_j = b.drop(columns=columns_to_drop)\n",
        "y_j = b['Welfare_exp']\n",
        "print(\"FEATURES:\")\n",
        "print(x_j)"
      ],
      "metadata": {
        "colab": {
          "base_uri": "https://localhost:8080/"
        },
        "id": "UvaCO231D-r9",
        "outputId": "13101192-c371-49d3-d482-b58e9bf61d35"
      },
      "execution_count": 75,
      "outputs": [
        {
          "output_type": "stream",
          "name": "stdout",
          "text": [
            "FEATURES:\n",
            "    Life_expectancy  Physician  Public_Hosp  Pshic_hosp  Beds_psic  Nurses  \\\n",
            "0             84.65      224.4         13.7         0.5      164.3   845.4   \n",
            "1             83.79      242.6         34.0         1.7      404.6  1105.5   \n",
            "2             82.80      212.5         42.9         1.4      348.7  1108.8   \n",
            "3             84.48      205.8         16.1         0.5      195.8   749.1   \n",
            "4             84.24      276.7         17.4         1.0      329.7  1277.5   \n",
            "5             84.91      257.9         22.8         1.3      284.1  1124.5   \n",
            "6             84.54      309.9          8.9         1.2      407.0  1333.7   \n",
            "7             83.71      205.7         20.6         1.3      339.8   994.7   \n",
            "8             84.71      224.5         24.7         0.6      195.2   942.7   \n",
            "9             84.16      233.8         16.5         0.7      257.5  1054.1   \n",
            "10            85.06      267.1         14.1         1.1      309.7  1198.5   \n",
            "11            84.00      251.3         21.1         1.3      373.9  1274.1   \n",
            "12            84.81      266.1         16.6         0.6      211.2   988.3   \n",
            "13            83.92      193.8          8.5         0.7      252.6   806.3   \n",
            "14            85.06      291.6         28.2         1.1      325.9  1199.3   \n",
            "15            83.85      207.3         42.9         1.2      339.6  1045.7   \n",
            "16            84.60      290.0         23.4         1.2      345.1  1278.9   \n",
            "17            84.24      283.6          9.1         2.3      589.5  1562.5   \n",
            "18            84.97      223.0         11.8         0.5      147.7   715.0   \n",
            "19            84.32      322.0         11.7         1.6      515.2  1640.7   \n",
            "20            85.07      297.0         18.2         2.2      502.7  1524.4   \n",
            "21            85.25      332.6         16.4         0.4      229.8  1015.4   \n",
            "22            84.64      231.6         25.9         0.7      260.3   948.6   \n",
            "23            84.61      246.3         33.9         1.2      266.7   931.1   \n",
            "24            84.38      255.5         19.2         1.6      545.5  1463.0   \n",
            "25            85.46      243.8         24.3         0.7      226.1  1040.6   \n",
            "26            84.21      319.1         18.3         2.1      594.9  1525.3   \n",
            "27            85.18      277.1         21.1         0.3      218.0   936.8   \n",
            "28            84.43      204.3         30.5         0.9      283.6   948.7   \n",
            "29            84.91      287.1         10.2         2.2      466.1  1449.5   \n",
            "30            85.10      320.1         16.6         0.8      279.2  1200.5   \n",
            "31            84.31      257.2         18.2         0.9      360.4  1096.1   \n",
            "32            84.09      285.7          8.0         0.4      205.5   954.9   \n",
            "33            84.60      290.3         16.3         1.7      512.8  1528.5   \n",
            "34            84.38      177.8          7.4         0.6      187.5   704.0   \n",
            "35            85.50      236.3         34.0         0.5      161.3   895.4   \n",
            "36            84.92      297.1         42.1         1.3      336.6  1271.9   \n",
            "37            84.54      219.4         24.3         0.9      180.4   855.1   \n",
            "38            83.95      236.9          8.0         0.9      249.3   921.6   \n",
            "39            84.35      338.4         15.2         2.1      496.8  1374.7   \n",
            "40            84.82      320.9          8.0         0.4      154.3   780.7   \n",
            "41            84.63      314.8         33.3         0.7      320.6  1341.0   \n",
            "42            84.86      261.5         20.7         1.8      299.0  1164.4   \n",
            "43            84.20      307.8         21.3         0.9      222.0  1171.8   \n",
            "44            84.39      229.2         49.1         1.3      326.9  1045.1   \n",
            "45            84.28      260.1         19.3         2.1      435.5  1404.1   \n",
            "46            84.83      250.1         34.6         1.0      280.6   975.2   \n",
            "\n",
            "    Avg_hours  Salary  Elementary_school  Sport_fac  Forest  \\\n",
            "0       171.5  319.45               12.9      234.5    42.1   \n",
            "1       173.0  257.30               19.0      877.2    70.3   \n",
            "2       174.5  254.50               22.0      554.4    63.6   \n",
            "3       173.5  314.95                9.6      246.1    30.1   \n",
            "4       178.0  272.50               15.2      482.7    70.5   \n",
            "5       173.0  286.05               16.4      626.8    73.9   \n",
            "6       172.5  293.70               10.4      260.4    44.5   \n",
            "7       173.0  275.90               16.9      737.8    68.0   \n",
            "8       175.0  293.65               16.6      535.2    79.0   \n",
            "9       174.0  295.05               14.6      626.0    64.0   \n",
            "10      174.5  302.75                9.6      387.7    71.9   \n",
            "11      174.0  282.30               15.8      743.4    67.7   \n",
            "12      173.5  315.35               10.7      211.6    66.9   \n",
            "13      173.5  308.40               14.5      425.0    32.4   \n",
            "14      174.0  293.90               14.8      725.8    66.3   \n",
            "15      173.5  255.65               20.7      732.3    74.6   \n",
            "16      175.0  290.90               11.9      487.0    46.4   \n",
            "17      175.0  265.10               16.9      625.2    63.7   \n",
            "18      174.0  345.80                7.6      159.7    38.7   \n",
            "19      173.5  269.50               18.2      550.2    83.3   \n",
            "20      176.0  276.05               16.1      520.2    61.8   \n",
            "21      172.0  321.55                9.7      258.7    74.2   \n",
            "22      176.0  304.40               15.4      365.9    64.2   \n",
            "23      176.0  292.20               13.0      387.9    55.4   \n",
            "24      175.0  258.20               18.8      603.3    75.5   \n",
            "25      171.0  291.50               12.3      954.2    75.3   \n",
            "26      176.0  270.75               18.1      611.5    58.5   \n",
            "27      173.0  308.20                9.7      360.9    76.9   \n",
            "28      173.0  268.40               18.8      652.7    63.5   \n",
            "29      176.0  274.30               12.8      510.9    70.8   \n",
            "30      175.0  290.55               11.4      441.7    68.1   \n",
            "31      174.5  265.00               13.0      348.7    46.7   \n",
            "32      173.0  327.15               10.2      133.5    29.9   \n",
            "33      177.5  269.75               15.5      604.1    45.3   \n",
            "34      174.0  310.35               10.3      225.0    31.4   \n",
            "35      173.0  310.85               11.9      407.4    50.7   \n",
            "36      173.5  269.20               18.2      843.1    78.0   \n",
            "37      173.0  300.05               15.5      373.1    62.8   \n",
            "38      172.5  300.75               14.5      486.9    52.9   \n",
            "39      172.0  282.95               16.4      498.6    75.4   \n",
            "40      171.5  378.15                5.6      155.0    34.7   \n",
            "41      173.0  267.50               13.0      957.3    73.4   \n",
            "42      173.0  300.35               14.2      652.4    56.6   \n",
            "43      175.0  289.55               16.0      469.1    76.2   \n",
            "44      173.0  260.90               16.7      590.7    69.0   \n",
            "45      174.0  292.10               12.5      535.4    71.4   \n",
            "46      174.0  295.00               12.4      754.0    77.8   \n",
            "\n",
            "    Income_per capita  Density_pop  Hospitals    Beds  Ambulances  Health_exp  \\\n",
            "0              3728.0       2517.7        3.8   758.7         3.7        2.06   \n",
            "1              2697.0        296.8        5.2  1168.5         9.0        3.24   \n",
            "2              2507.0        380.5        6.2  1112.8         9.1        3.40   \n",
            "3              3116.0       1778.4        4.1   806.2         4.2        3.53   \n",
            "4              2658.0        801.2        9.1  1274.2         7.1        4.82   \n",
            "5              3280.0        711.9        7.4  1148.3         7.3        2.40   \n",
            "6              2885.0       1858.3        7.7  1328.3         3.8        2.54   \n",
            "7              2943.0        433.3        5.6  1033.2         7.4        3.09   \n",
            "8              2919.0        895.1        4.3   834.1         7.5        3.18   \n",
            "9              3283.0        854.6        5.9  1047.7         5.8        2.59   \n",
            "10             3109.0       1217.9        7.4  1090.0         6.0        3.59   \n",
            "11             2742.0        230.2        9.2  1500.7         8.1        2.52   \n",
            "12             2968.0       1973.3        5.7   981.0         4.2        2.93   \n",
            "13             3327.0        737.2        5.3   917.2         6.0        3.06   \n",
            "14             3023.0        812.1        6.9  1221.1         5.7        2.51   \n",
            "15             2841.0        322.7        6.4  1070.8         8.4        6.05   \n",
            "16             3013.0        945.6        8.1  1188.6         5.6        4.02   \n",
            "17             2509.0        483.0       12.4  1578.1         8.8        3.32   \n",
            "18             3268.0       6267.5        3.1   676.9         3.4        2.82   \n",
            "19             2644.0        595.5       16.1  2052.6        10.1        3.84   \n",
            "20             2667.0        632.8        9.8  1440.2         6.9        3.60   \n",
            "21             2983.0       2189.8        5.9  1130.5         4.5        2.74   \n",
            "22             3121.0        857.6        4.6   903.4         6.8        3.58   \n",
            "23             2945.0        722.6        4.7   857.0         5.3        2.90   \n",
            "24             2468.0        570.1       11.2  1326.4         5.2        3.32   \n",
            "25             3010.0        630.4        5.4  1010.2         7.1        2.61   \n",
            "26             2629.0        786.8        9.1  1420.3         7.2        3.07   \n",
            "27             2632.0       1551.1        5.4  1122.0         6.2        4.06   \n",
            "28             2916.0        483.8        4.8   982.2         7.2        3.84   \n",
            "29             2714.0        626.1       11.4  1297.8         6.7        2.58   \n",
            "30             2769.0        847.5        7.7  1199.9         6.4        2.17   \n",
            "31             2391.0       1302.6        5.2  1044.5         5.7        4.37   \n",
            "32             3190.0       6624.7        5.4  1026.5         3.6        2.31   \n",
            "33             2753.0        608.0       10.6  1455.7         6.3        2.96   \n",
            "34             3047.0       2821.6        4.0   713.5         3.9        3.08   \n",
            "35             3318.0       1087.8        3.5   861.2         4.7        3.68   \n",
            "36             2667.0        528.0        5.7  1185.9        11.6        3.97   \n",
            "37             3432.0       1309.4        3.9   842.4         4.8        4.17   \n",
            "38             3479.0        643.3        4.5   896.0         5.5        4.21   \n",
            "39             3092.0        708.2       12.8  1440.7         7.4        5.00   \n",
            "40             5415.0       9873.3        4.2   807.7         2.6        3.32   \n",
            "41             2515.0        611.9        7.0  1372.9         6.0        3.61   \n",
            "42             3398.0        561.7        8.4  1232.7         6.2        3.03   \n",
            "43             2913.0        821.3        8.1  1227.2         9.1        2.33   \n",
            "44             2897.0        371.7        5.0  1051.7         7.4        5.47   \n",
            "45             3199.0        782.5        8.5  1430.5         6.9        3.21   \n",
            "46             3160.0        849.8        6.4  1080.8         8.0        3.20   \n",
            "\n",
            "    Educ_exp  Welfare_exp  \n",
            "0      21.41        16.53  \n",
            "1      17.93        13.50  \n",
            "2      20.98        15.92  \n",
            "3      25.44        18.24  \n",
            "4      20.47        15.60  \n",
            "5      20.51        12.38  \n",
            "6      18.82        21.51  \n",
            "7      17.63        18.81  \n",
            "8      24.82        15.29  \n",
            "9      24.21        17.28  \n",
            "10     20.43        17.98  \n",
            "11     17.74        16.18  \n",
            "12     20.43        17.80  \n",
            "13     26.37        17.50  \n",
            "14     20.12        13.93  \n",
            "15     16.04        10.31  \n",
            "16     21.53        15.26  \n",
            "17     23.49        17.85  \n",
            "18     21.51        23.01  \n",
            "19     21.66        14.74  \n",
            "20     17.09        17.18  \n",
            "21     20.62        19.24  \n",
            "22     25.42        17.18  \n",
            "23     17.21        13.48  \n",
            "24     20.23        15.88  \n",
            "25     25.09        15.48  \n",
            "26     22.18        15.58  \n",
            "27     24.66        17.52  \n",
            "28     17.42        12.72  \n",
            "29     21.21        15.15  \n",
            "30     20.93        16.41  \n",
            "31     24.61        17.73  \n",
            "32     20.94        21.42  \n",
            "33     22.49        15.24  \n",
            "34     27.53        20.49  \n",
            "35     27.02        15.43  \n",
            "36     19.81        11.87  \n",
            "37     21.17        16.83  \n",
            "38     25.05        16.23  \n",
            "39     17.41        13.38  \n",
            "40     16.76        14.47  \n",
            "41     19.09        13.63  \n",
            "42     22.56        13.28  \n",
            "43     19.84        14.37  \n",
            "44     19.28        13.18  \n",
            "45     23.56        15.21  \n",
            "46     20.87        12.34  \n"
          ]
        }
      ]
    },
    {
      "cell_type": "code",
      "source": [
        "print(\"TARGET VARIABLE:\")\n",
        "print(y_j)"
      ],
      "metadata": {
        "colab": {
          "base_uri": "https://localhost:8080/"
        },
        "id": "S9kEpChjHRNb",
        "outputId": "d4f45c44-c58a-4d59-e152-6826fab60f2a"
      },
      "execution_count": 76,
      "outputs": [
        {
          "output_type": "stream",
          "name": "stdout",
          "text": [
            "TARGET VARIABLE:\n",
            "0     16.53\n",
            "1     13.50\n",
            "2     15.92\n",
            "3     18.24\n",
            "4     15.60\n",
            "5     12.38\n",
            "6     21.51\n",
            "7     18.81\n",
            "8     15.29\n",
            "9     17.28\n",
            "10    17.98\n",
            "11    16.18\n",
            "12    17.80\n",
            "13    17.50\n",
            "14    13.93\n",
            "15    10.31\n",
            "16    15.26\n",
            "17    17.85\n",
            "18    23.01\n",
            "19    14.74\n",
            "20    17.18\n",
            "21    19.24\n",
            "22    17.18\n",
            "23    13.48\n",
            "24    15.88\n",
            "25    15.48\n",
            "26    15.58\n",
            "27    17.52\n",
            "28    12.72\n",
            "29    15.15\n",
            "30    16.41\n",
            "31    17.73\n",
            "32    21.42\n",
            "33    15.24\n",
            "34    20.49\n",
            "35    15.43\n",
            "36    11.87\n",
            "37    16.83\n",
            "38    16.23\n",
            "39    13.38\n",
            "40    14.47\n",
            "41    13.63\n",
            "42    13.28\n",
            "43    14.37\n",
            "44    13.18\n",
            "45    15.21\n",
            "46    12.34\n",
            "Name: Welfare_exp, dtype: float64\n"
          ]
        }
      ]
    },
    {
      "cell_type": "code",
      "source": [
        "Xj_train, Xj_test, yj_train, yj_test = train_test_split(x_j, y_j, test_size=0.2, random_state=42)\n",
        "knn_regressor = KNeighborsRegressor(n_neighbors=5)\n",
        "knn_regressor.fit(Xj_train, yj_train)\n",
        "yj_pred = knn_regressor.predict(Xj_test)\n",
        "\n",
        "mse = mean_squared_error(y_test, y_pred)\n",
        "print(\"Mean Squared Error (MSE):\", mse)"
      ],
      "metadata": {
        "colab": {
          "base_uri": "https://localhost:8080/"
        },
        "id": "eBlG_a9oHMTP",
        "outputId": "e7367154-6d86-4c47-fd37-a863eedda914"
      },
      "execution_count": 77,
      "outputs": [
        {
          "output_type": "stream",
          "name": "stdout",
          "text": [
            "Mean Squared Error (MSE): 1.7192291250000014\n"
          ]
        }
      ]
    },
    {
      "cell_type": "code",
      "source": [
        "import matplotlib.pyplot as plt\n",
        "k_values = list(range(1, 21))\n",
        "mse_values = []\n",
        "\n",
        "for k in k_values:\n",
        "    knn_regressor = KNeighborsRegressor(n_neighbors=k)\n",
        "\n",
        "    knn_regressor.fit(Xj_train, yj_train)\n",
        "\n",
        "    yj_pred = knn_regressor.predict(Xj_test)\n",
        "\n",
        "    mse = mean_squared_error(yj_test, yj_pred)\n",
        "    mse_values.append(mse)\n",
        "plt.figure(figsize=(10, 6))\n",
        "plt.plot(k_values, mse_values, marker='o')\n",
        "plt.title('Mean Squared Error (MSE) for Different K Values in KNN')\n",
        "plt.xlabel('Number of Neighbors (K)')\n",
        "plt.ylabel('Mean Squared Error (MSE)')\n",
        "plt.xticks(range(1, 21))\n",
        "plt.grid(True)\n",
        "plt.show()"
      ],
      "metadata": {
        "colab": {
          "base_uri": "https://localhost:8080/",
          "height": 564
        },
        "id": "0ap-KskIFEz5",
        "outputId": "1d7b1289-6f4b-4cd3-8213-ff3648208ff6"
      },
      "execution_count": 78,
      "outputs": [
        {
          "output_type": "display_data",
          "data": {
            "text/plain": [
              "<Figure size 1000x600 with 1 Axes>"
            ],
            "image/png": "[encoded data removed]"
          },
          "metadata": {}
        }
      ]
    }
  ]
}